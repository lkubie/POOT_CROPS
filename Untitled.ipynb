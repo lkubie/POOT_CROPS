{
 "cells": [
  {
   "cell_type": "code",
   "execution_count": 1,
   "id": "proper-hypothetical",
   "metadata": {},
   "outputs": [],
   "source": [
    "import pandas as pd\n",
    "import os\n",
    "import math\n",
    "import seaborn\n",
    "import matplotlib.pyplot as plt"
   ]
  },
  {
   "cell_type": "code",
   "execution_count": 2,
   "id": "sunset-asian",
   "metadata": {},
   "outputs": [],
   "source": [
    "raw_file_path = os.path.join(\"raw_data\", \"plants.csv\")\n",
    "plant_df = pd.read_csv(raw_file_path, index_col=0)\n",
    "plant_df.dropna(thresh=2, inplace=True)\n",
    "seasons = [\"Spring\", \"Summer\", \"Autumn\", \"Winter\"]"
   ]
  },
  {
   "cell_type": "code",
   "execution_count": 3,
   "id": "forbidden-opening",
   "metadata": {},
   "outputs": [],
   "source": [
    "#Given Season and Current Day (and # of crops), calculate the # made\n",
    "def get_plant_season_indicies(seasons_string):\n",
    "    global seasons\n",
    "    \n",
    "    seasons_string = str(seasons_string.replace(\" \",\"\"))\n",
    "    seasons_list = seasons_string.split(\",\")\n",
    "    season_indicies = []\n",
    "    for s in seasons_list:\n",
    "        season_indicies.append(seasons.index(s))\n",
    "    return season_indicies\n",
    "\n",
    "def get_plants_theoretical_max_grow_days(row):\n",
    "    grow_time = row[\"grow_time\"]\n",
    "    max_regrows = row[\"yields_per_season\"]\n",
    "    regrow_time = row[\"regrow_time\"]\n",
    "    if str(regrow_time) == \"nan\":\n",
    "        regrow_time = 0\n",
    "    total_time = grow_time + (max_regrows-1)*regrow_time\n",
    "    return total_time\n",
    "\n",
    "\n",
    "def get_plants_profit(row, days_of_growing):\n",
    "    n_crops = row[\"crops_per_seed\"]\n",
    "    unit_price = row[\"sell_price\"]\n",
    "    seed_price = row[\"seed_price\"]\n",
    "    grow_time = row[\"grow_time\"]\n",
    "    regrow_time = row[\"regrow_time\"]\n",
    "    lenth_round = get_plants_theoretical_max_grow_days(row)\n",
    "    full_rounds = math.floor(days_of_growing/lenth_round)\n",
    "    gross_profit = get_plants_theoretical_max_gross_profit(row) * full_rounds\n",
    "    amount_spent = full_rounds * seed_price\n",
    "    \n",
    "#     print(\"first growth is {} net\".format(str(gross_profit-amount_spent)))\n",
    "    # Now, calculate the partial growths, for crops where we may get some of the potential out\n",
    "    days_remaining = days_of_growing - (full_rounds*lenth_round)\n",
    "    if days_remaining > grow_time:\n",
    "        gross_profit += n_crops * unit_price - seed_price\n",
    "        amount_spent += seed_price\n",
    "        days_remaining -= grow_time\n",
    "#         print(\"second growth is {} net\".format(str(gross_profit-amount_spent)))\n",
    "    while days_remaining >= regrow_time:\n",
    "        days_remaining -= regrow_time\n",
    "        gross_profit += n_crops * unit_price\n",
    "#         print(\"regrowth growth is {} net\".format(str(gross_profit-amount_spent)))\n",
    "        \n",
    "    net_profit = gross_profit - amount_spent\n",
    "#     print(net_profit)\n",
    "    return (net_profit, gross_profit, amount_spent)\n",
    "\n",
    "def get_plants_theoretical_max_gross_profit(row):\n",
    "    n_crops = row[\"crops_per_seed\"]\n",
    "    unit_price = row[\"sell_price\"]\n",
    "    seed_price = row[\"seed_price\"]\n",
    "    grow_time = row[\"grow_time\"]\n",
    "    regrow_time = row[\"regrow_time\"]\n",
    "    regrows = row[\"yields_per_season\"]\n",
    "    return (regrows * unit_price * n_crops)\n",
    "\n",
    "def get_possible_rounds_of_planting(row, total_days_of_growth_remaining):\n",
    "    days_to_use_up_seed = get_plants_theoretical_max_grow_days(row)\n",
    "    total_rounds = total_days_of_growth_remaining/days_to_use_up_seed if total_days_of_growth_remaining >= row[\"grow_time\"] else 0\n",
    "    return round(total_rounds,2)\n",
    "\n",
    "def calculate_profit(plant_df, crop_name, season, day):\n",
    "    day = day-1\n",
    "    global seasons\n",
    "    \n",
    "    this_season_index = seasons.index(season)\n",
    "    this_row = plant_df.loc[crop_name]\n",
    "    plant_season_indicies = get_plant_season_indicies(this_row[\"seasons\"])\n",
    "    \n",
    "    if this_season_index not in plant_season_indicies:\n",
    "        this_crop_dict = {\n",
    "            \"gross profit\":0,\n",
    "            \"net profit\":0,\n",
    "            \"net profit per day\":0,\n",
    "            \"cost\":0,\n",
    "            \"rounds\":0,\n",
    "            \"gross profit month\":0,\n",
    "            \"net profit month\":0,\n",
    "            \"net profit per day month\":0,\n",
    "            \"cost month\":0,\n",
    "            \"rounds month\":0,\n",
    "            \"in season\":False\n",
    "        }\n",
    "        return this_crop_dict\n",
    "    consecutive_in_seasons = 0\n",
    "    next_season_index = (this_season_index + 1) % 4\n",
    "    while next_season_index in plant_season_indicies:\n",
    "        consecutive_in_seasons +=1\n",
    "        next_season_index = (next_season_index + 1) % 4\n",
    "    \n",
    "    total_days_of_growth_remaing = (28*consecutive_in_seasons)+ (28-day)\n",
    "    rounds_total = get_possible_rounds_of_planting(this_row, total_days_of_growth_remaing)\n",
    "    (net_profit_total, gross_profit_total, amount_spent) = get_plants_profit(this_row, total_days_of_growth_remaing)\n",
    "    net_profit_per_day = round(net_profit_total/total_days_of_growth_remaing,2)\n",
    "    rounds_this_month = get_possible_rounds_of_planting(this_row, 28-day)\n",
    "    (net_profit_this_month, gross_profit_month, amount_spent_month) = get_plants_profit(this_row, 28-day)\n",
    "    net_profit_per_day_this_month = round(net_profit_this_month/(28-day),2)\n",
    "    this_crop_dict = {\n",
    "        \"gross profit\":gross_profit_total,\n",
    "        \"net profit\":net_profit_total,\n",
    "        \"net profit per day\":net_profit_per_day,\n",
    "        \"cost\":amount_spent,\n",
    "        \"rounds\":rounds_total,\n",
    "        \"gross profit month\":gross_profit_month,\n",
    "        \"net profit month\":net_profit_this_month,\n",
    "        \"net profit per day month\":net_profit_per_day_this_month,\n",
    "        \"cost month\":amount_spent_month,\n",
    "        \"rounds month\":rounds_this_month,\n",
    "        \"in season\":True\n",
    "    }\n",
    "    return this_crop_dict\n",
    "\n",
    "def calculate_all(plant_df, season, day):\n",
    "    result_dict = {}\n",
    "    for i, row in plant_df.iterrows():\n",
    "        cost_dict = calculate_profit(plant_df,i,season,day)\n",
    "        result_dict[i]=cost_dict\n",
    "    resp_df = pd.DataFrame(result_dict).transpose().reset_index().rename(columns={\"index\":\"plant\"})\n",
    "    return resp_df\n"
   ]
  },
  {
   "cell_type": "code",
   "execution_count": 4,
   "id": "dimensional-stake",
   "metadata": {},
   "outputs": [],
   "source": [
    "date_data = calculate_all(plant_df,\"Spring\",1)"
   ]
  },
  {
   "cell_type": "code",
   "execution_count": 5,
   "id": "ongoing-independence",
   "metadata": {},
   "outputs": [],
   "source": [
    "\n",
    "def plot_data(data, y_axis='net profit month'):\n",
    "    seasonal_df = data.loc[data[\"in season\"]]\n",
    "    seasonal_df.head(3)\n",
    "    fig, ax1 = plt.subplots(figsize=(10, 10))\n",
    "    for item in ax1.get_xticklabels():\n",
    "        item.set_rotation(45)\n",
    "    seaborn.barplot(x='plant', y=y_axis, data=seasonal_df, ax=ax1)\n",
    "    seaborn.despine(fig)\n",
    "\n",
    "def plot_data_widget(p):\n",
    "    clear_output()\n",
    "    display(dropdown_yaxis,dropdown_season,slider_day)\n",
    "    global date_data\n",
    "    plot_data(date_data, p[\"new\"])\n",
    "\n"
   ]
  },
  {
   "cell_type": "code",
   "execution_count": 14,
   "id": "incoming-sailing",
   "metadata": {},
   "outputs": [],
   "source": [
    "def refresh_data(a):\n",
    "    global dropdown_yaxis,dropdown_season,slider_day,date_data,plant_df\n",
    "    date_data = calculate_all(plant_df,dropdown_season.value,slider_day.value)\n",
    "    \n",
    "    plot_data(date_data, dropdown_yaxis.value)\n",
    "    clear_output()\n",
    "    display(dropdown_yaxis,dropdown_season,slider_day)"
   ]
  },
  {
   "cell_type": "code",
   "execution_count": 15,
   "id": "identical-belgium",
   "metadata": {},
   "outputs": [
    {
     "data": {
      "application/vnd.jupyter.widget-view+json": {
       "model_id": "3eadeac8e85e46a79fa8d7a243726cc1",
       "version_major": 2,
       "version_minor": 0
      },
      "text/plain": [
       "Dropdown(description='Y-Axis:', index=5, options=('gross profit', 'net profit', 'net profit per day', 'cost', …"
      ]
     },
     "metadata": {},
     "output_type": "display_data"
    },
    {
     "data": {
      "application/vnd.jupyter.widget-view+json": {
       "model_id": "a5bb0648a4e94e3b9f4cebc4ebcd8a50",
       "version_major": 2,
       "version_minor": 0
      },
      "text/plain": [
       "Dropdown(description='Y-Axis:', options=('Spring', 'Summer', 'Autumn', 'Winter'), value='Spring')"
      ]
     },
     "metadata": {},
     "output_type": "display_data"
    },
    {
     "data": {
      "application/vnd.jupyter.widget-view+json": {
       "model_id": "091d9f73033c4675bb582250871dae8b",
       "version_major": 2,
       "version_minor": 0
      },
      "text/plain": [
       "IntSlider(value=6, max=28, min=1)"
      ]
     },
     "metadata": {},
     "output_type": "display_data"
    },
    {
     "data": {
      "image/png": "[encoded data removed]",
      "text/plain": [
       "<Figure size 720x720 with 1 Axes>"
      ]
     },
     "metadata": {
      "needs_background": "light"
     },
     "output_type": "display_data"
    }
   ],
   "source": [
    "from IPython.display import display\n",
    "import ipywidgets as widgets\n",
    "from IPython.display import display, clear_output\n",
    "dropdown_yaxis = widgets.Dropdown(\n",
    "    options=date_data.columns.drop([\"plant\",\"rounds\", \"in season\", \"rounds month\"]),\n",
    "    description='Y-Axis:',\n",
    "    disabled=False,\n",
    ")\n",
    "dropdown_season = widgets.Dropdown(\n",
    "    options=[\"Spring\",\"Summer\",\"Autumn\",\"Winter\"],\n",
    "    description='Y-Axis:',\n",
    "    disabled=False,\n",
    ")\n",
    "slider_day = widgets.IntSlider(value=1, min=1, max=28, step=1)\n",
    "\n",
    "display(dropdown_yaxis,dropdown_season,slider_day)\n",
    "# display(dropdown_yaxis)\n",
    "dropdown_yaxis.observe(refresh_data, names=['value'])\n",
    "dropdown_season.observe(refresh_data, names=['value'])\n",
    "slider_day.observe(refresh_data, names=['value'])\n",
    "# refresh_data(True)"
   ]
  },
  {
   "cell_type": "code",
   "execution_count": null,
   "id": "greater-handling",
   "metadata": {},
   "outputs": [],
   "source": []
  },
  {
   "cell_type": "code",
   "execution_count": null,
   "id": "fresh-skiing",
   "metadata": {},
   "outputs": [],
   "source": [
    "slider_day.value"
   ]
  },
  {
   "cell_type": "code",
   "execution_count": null,
   "id": "absent-spain",
   "metadata": {},
   "outputs": [],
   "source": []
  }
 ],
 "metadata": {
  "kernelspec": {
   "display_name": "Python 3",
   "language": "python",
   "name": "python3"
  },
  "language_info": {
   "codemirror_mode": {
    "name": "ipython",
    "version": 3
   },
   "file_extension": ".py",
   "mimetype": "text/x-python",
   "name": "python",
   "nbconvert_exporter": "python",
   "pygments_lexer": "ipython3",
   "version": "3.7.10"
  }
 },
 "nbformat": 4,
 "nbformat_minor": 5
}
