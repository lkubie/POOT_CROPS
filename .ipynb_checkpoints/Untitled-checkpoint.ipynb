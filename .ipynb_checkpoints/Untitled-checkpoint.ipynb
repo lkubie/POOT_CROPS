{
 "cells": [
  {
   "cell_type": "code",
   "execution_count": 19,
   "id": "recorded-peninsula",
   "metadata": {},
   "outputs": [],
   "source": [
    "import pandas as pd\n",
    "import os\n",
    "import math\n",
    "import seaborn\n",
    "import matplotlib.pyplot as plt"
   ]
  },
  {
   "cell_type": "code",
   "execution_count": 2,
   "id": "exterior-uganda",
   "metadata": {},
   "outputs": [],
   "source": [
    "raw_file_path = os.path.join(\"raw_data\", \"plants.csv\")\n",
    "plant_df = pd.read_csv(raw_file_path, index_col=0)\n",
    "plant_df.dropna(thresh=2, inplace=True)\n",
    "plant_df.head(3)\n",
    "seasons = [\"Spring\", \"Summer\", \"Autumn\", \"Winter\"]"
   ]
  },
  {
   "cell_type": "code",
   "execution_count": 26,
   "id": "informational-boxing",
   "metadata": {},
   "outputs": [],
   "source": [
    "#Given Season and Current Day (and # of crops), calculate the # made\n",
    "def get_plant_season_indicies(seasons_string):\n",
    "    global seasons\n",
    "    \n",
    "    seasons_string = str(seasons_string.replace(\" \",\"\"))\n",
    "    seasons_list = seasons_string.split(\",\")\n",
    "    season_indicies = []\n",
    "    for s in seasons_list:\n",
    "        season_indicies.append(seasons.index(s))\n",
    "    return season_indicies\n",
    "\n",
    "def get_plants_theoretical_max_grow_days(row):\n",
    "    grow_time = row[\"grow_time\"]\n",
    "    max_regrows = row[\"yields_per_season\"]\n",
    "    regrow_time = row[\"regrow_time\"]\n",
    "    if str(regrow_time) == \"nan\":\n",
    "        regrow_time = 0\n",
    "    total_time = grow_time + (max_regrows-1)*regrow_time\n",
    "    return total_time\n",
    "\n",
    "\n",
    "def get_plants_profit(row, days_of_growing):\n",
    "    n_crops = row[\"crops_per_seed\"]\n",
    "    unit_price = row[\"sell_price\"]\n",
    "    seed_price = row[\"seed_price\"]\n",
    "    grow_time = row[\"grow_time\"]\n",
    "    regrow_time = row[\"regrow_time\"]\n",
    "    lenth_round = get_plants_theoretical_max_grow_days(row)\n",
    "    full_rounds = math.floor(days_of_growing/lenth_round)\n",
    "    gross_profit = get_plants_theoretical_max_gross_profit(row) * full_rounds\n",
    "    amount_spent = full_rounds * seed_price\n",
    "    \n",
    "#     print(\"first growth is {} net\".format(str(gross_profit-amount_spent)))\n",
    "    # Now, calculate the partial growths, for crops where we may get some of the potential out\n",
    "    days_remaining = days_of_growing - (full_rounds*lenth_round)\n",
    "    if days_remaining > grow_time:\n",
    "        gross_profit += n_crops * unit_price - seed_price\n",
    "        amount_spent += seed_price\n",
    "        days_remaining -= grow_time\n",
    "#         print(\"second growth is {} net\".format(str(gross_profit-amount_spent)))\n",
    "    while days_remaining >= regrow_time:\n",
    "        days_remaining -= regrow_time\n",
    "        gross_profit += n_crops * unit_price\n",
    "#         print(\"regrowth growth is {} net\".format(str(gross_profit-amount_spent)))\n",
    "        \n",
    "    net_profit = gross_profit - amount_spent\n",
    "    print(net_profit)\n",
    "    return (net_profit, gross_profit, amount_spent)\n",
    "\n",
    "def get_plants_theoretical_max_gross_profit(row):\n",
    "    n_crops = row[\"crops_per_seed\"]\n",
    "    unit_price = row[\"sell_price\"]\n",
    "    seed_price = row[\"seed_price\"]\n",
    "    grow_time = row[\"grow_time\"]\n",
    "    regrow_time = row[\"regrow_time\"]\n",
    "    regrows = row[\"yields_per_season\"]\n",
    "    return (regrows * unit_price * n_crops)\n",
    "\n",
    "def get_possible_rounds_of_planting(row, total_days_of_growth_remaining):\n",
    "    days_to_use_up_seed = get_plants_theoretical_max_grow_days(row)\n",
    "    total_rounds = total_days_of_growth_remaining/days_to_use_up_seed if total_days_of_growth_remaining >= row[\"grow_time\"] else 0\n",
    "    return round(total_rounds,2)\n",
    "\n",
    "def calculate_profit(plant_df, crop_name, season, day):\n",
    "    day = day-1\n",
    "    global seasons\n",
    "    \n",
    "    this_season_index = seasons.index(season)\n",
    "    this_row = plant_df.loc[crop_name]\n",
    "    plant_season_indicies = get_plant_season_indicies(this_row[\"seasons\"])\n",
    "    \n",
    "    if this_season_index not in plant_season_indicies:\n",
    "        this_crop_dict = {\n",
    "            \"gross profit\":0,\n",
    "            \"net profit\":0,\n",
    "            \"net profit per day\":0,\n",
    "            \"cost\":0,\n",
    "            \"rounds\":0,\n",
    "            \"gross profit month\":0,\n",
    "            \"net profit month\":0,\n",
    "            \"net profit per day month\":0,\n",
    "            \"cost month\":0,\n",
    "            \"rounds month\":0,\n",
    "            \"in season\":False\n",
    "        }\n",
    "        return this_crop_dict\n",
    "    consecutive_in_seasons = 0\n",
    "    next_season_index = (this_season_index + 1) % 4\n",
    "    while next_season_index in plant_season_indicies:\n",
    "        consecutive_in_seasons +=1\n",
    "        next_season_index = (next_season_index + 1) % 4\n",
    "    \n",
    "    total_days_of_growth_remaing = (28*consecutive_in_seasons)+ (28-day)\n",
    "    rounds_total = get_possible_rounds_of_planting(this_row, total_days_of_growth_remaing)\n",
    "    (net_profit_total, gross_profit_total, amount_spent) = get_plants_profit(this_row, total_days_of_growth_remaing)\n",
    "    net_profit_per_day = round(net_profit_total/total_days_of_growth_remaing,2)\n",
    "#     print(\"There are {} consecutive days you could plant {}\".format(str(total_days_of_growth_remaing), crop_name))\n",
    "#     print(\"You would plant {} rounds of {}\".format(str(rounds_total), crop_name))\n",
    "#     print(\"Each plot of {} would make ${} in this time\".format(crop_name,str(profit_total)))\n",
    "#     print(\"meaning a profit of ${} per day\".format(str(profit_per_day)))\n",
    "    rounds_this_month = get_possible_rounds_of_planting(this_row, 28-day)\n",
    "    (net_profit_this_month, gross_profit_month, amount_spent_month) = get_plants_profit(this_row, 28-day)\n",
    "    net_profit_per_day_this_month = round(net_profit_this_month/(28-day),2)\n",
    "#     print(\"By the end of the month, you could plant {} rounds of {}\".format(str(rounds_this_month), crop_name))\n",
    "#     print(\"By the end of the month, you will make ${}\".format(str(profit_this_month)))\n",
    "#     print(\"averaging a profit of ${} per day this month\".format(str(profit_per_day_this_month)))\n",
    "#     return(profit_total,profit_per_day,profit_this_month,profit_per_day_this_month)\n",
    "    this_crop_dict = {\n",
    "        \"gross profit\":gross_profit_total,\n",
    "        \"net profit\":net_profit_total,\n",
    "        \"net profit per day\":net_profit_per_day,\n",
    "        \"cost\":amount_spent,\n",
    "        \"rounds\":rounds_total,\n",
    "        \"gross profit month\":gross_profit_month,\n",
    "        \"net profit month\":net_profit_this_month,\n",
    "        \"net profit per day month\":net_profit_per_day_this_month,\n",
    "        \"cost month\":amount_spent_month,\n",
    "        \"rounds month\":rounds_this_month,\n",
    "        \"in season\":True\n",
    "    }\n",
    "    return this_crop_dict\n",
    "\n",
    "def calculate_all():\n",
    "    result_dict = {}\n",
    "    for i, row in plant_df.iterrows():\n",
    "        cost_dict = calculate_profit(plant_df,i,\"Spring\",18)\n",
    "        result_dict[i]=cost_dict\n",
    "    return result_dict"
   ]
  },
  {
   "cell_type": "code",
   "execution_count": 27,
   "id": "cardiac-lambda",
   "metadata": {},
   "outputs": [
    {
     "name": "stdout",
     "output_type": "stream",
     "text": [
      "20.0\n",
      "20.0\n",
      "{'gross profit': 220.0, 'net profit': 20.0, 'net profit per day': 1.67, 'cost': 200.0, 'rounds': 0.8, 'gross profit month': 220.0, 'net profit month': 20.0, 'net profit per day month': 1.67, 'cost month': 200.0, 'rounds month': 0.8, 'in season': True}\n"
     ]
    }
   ],
   "source": [
    "pdict = calculate_profit(plant_df,\"Cucumber\",\"Spring\",17)\n",
    "print(pdict)"
   ]
  },
  {
   "cell_type": "code",
   "execution_count": 28,
   "id": "adult-vermont",
   "metadata": {},
   "outputs": [
    {
     "name": "stdout",
     "output_type": "stream",
     "text": [
      "66.0\n",
      "66.0\n",
      "64.0\n",
      "64.0\n",
      "125.0\n",
      "125.0\n",
      "40.0\n",
      "40.0\n",
      "48.0\n",
      "48.0\n",
      "20.0\n",
      "20.0\n",
      "700.0\n",
      "0.0\n",
      "200.0\n",
      "0.0\n",
      "1100.0\n",
      "0.0\n",
      "992.0\n",
      "0.0\n",
      "{'Onion': {'gross profit': 286.0, 'net profit': 66.0, 'net profit per day': 6.0, 'cost': 220.0, 'rounds': 1.83, 'gross profit month': 286.0, 'net profit month': 66.0, 'net profit per day month': 6.0, 'cost month': 220.0, 'rounds month': 1.83, 'in season': True}, 'Turnip': {'gross profit': 384.0, 'net profit': 64.0, 'net profit per day': 5.82, 'cost': 320.0, 'rounds': 2.75, 'gross profit month': 384.0, 'net profit month': 64.0, 'net profit per day month': 5.82, 'cost month': 320.0, 'rounds month': 2.75, 'in season': True}, 'Strawberry': {'gross profit': 375.0, 'net profit': 125.0, 'net profit per day': 11.36, 'cost': 250.0, 'rounds': 1.38, 'gross profit month': 375.0, 'net profit month': 125.0, 'net profit per day month': 11.36, 'cost month': 250.0, 'rounds month': 1.38, 'in season': True}, 'Radish': {'gross profit': 240.0, 'net profit': 40.0, 'net profit per day': 3.64, 'cost': 200.0, 'rounds': 2.2, 'gross profit month': 240.0, 'net profit month': 40.0, 'net profit per day month': 3.64, 'cost month': 200.0, 'rounds month': 2.2, 'in season': True}, 'Potato': {'gross profit': 168.0, 'net profit': 48.0, 'net profit per day': 4.36, 'cost': 120.0, 'rounds': 1.83, 'gross profit month': 168.0, 'net profit month': 48.0, 'net profit per day month': 4.36, 'cost month': 120.0, 'rounds month': 1.83, 'in season': True}, 'Cucumber': {'gross profit': 220.0, 'net profit': 20.0, 'net profit per day': 1.82, 'cost': 200.0, 'rounds': 0.73, 'gross profit month': 220.0, 'net profit month': 20.0, 'net profit per day month': 1.82, 'cost month': 200.0, 'rounds month': 0.73, 'in season': True}, 'Tea Leaf': {'gross profit': 1600.0, 'net profit': 700.0, 'net profit per day': 10.45, 'cost': 900.0, 'rounds': 5.58, 'gross profit month': 0.0, 'net profit month': 0.0, 'net profit per day month': 0.0, 'cost month': 0.0, 'rounds month': 0, 'in season': True}, 'Beans': {'gross profit': 1200.0, 'net profit': 200.0, 'net profit per day': 2.99, 'cost': 1000.0, 'rounds': 5.58, 'gross profit month': 0.0, 'net profit month': 0.0, 'net profit per day month': 0.0, 'cost month': 0.0, 'rounds month': 0, 'in season': True}, 'Wheat': {'gross profit': 2200.0, 'net profit': 1100.0, 'net profit per day': 16.42, 'cost': 1100.0, 'rounds': 5.58, 'gross profit month': 0.0, 'net profit month': 0.0, 'net profit per day month': 0.0, 'cost month': 0.0, 'rounds month': 0, 'in season': True}, 'Rice': {'gross profit': 1992.0, 'net profit': 992.0, 'net profit per day': 14.81, 'cost': 1000.0, 'rounds': 4.79, 'gross profit month': 0.0, 'net profit month': 0.0, 'net profit per day month': 0.0, 'cost month': 0.0, 'rounds month': 0, 'in season': True}, 'Pumpkin': {'gross profit': 0, 'net profit': 0, 'net profit per day': 0, 'cost': 0, 'rounds': 0, 'gross profit month': 0, 'net profit month': 0, 'net profit per day month': 0, 'cost month': 0, 'rounds month': 0, 'in season': False}, 'Corn': {'gross profit': 0, 'net profit': 0, 'net profit per day': 0, 'cost': 0, 'rounds': 0, 'gross profit month': 0, 'net profit month': 0, 'net profit per day month': 0, 'cost month': 0, 'rounds month': 0, 'in season': False}, 'Tomato': {'gross profit': 0, 'net profit': 0, 'net profit per day': 0, 'cost': 0, 'rounds': 0, 'gross profit month': 0, 'net profit month': 0, 'net profit per day month': 0, 'cost month': 0, 'rounds month': 0, 'in season': False}, 'Pepper': {'gross profit': 0, 'net profit': 0, 'net profit per day': 0, 'cost': 0, 'rounds': 0, 'gross profit month': 0, 'net profit month': 0, 'net profit per day month': 0, 'cost month': 0, 'rounds month': 0, 'in season': False}, 'Eggplant': {'gross profit': 0, 'net profit': 0, 'net profit per day': 0, 'cost': 0, 'rounds': 0, 'gross profit month': 0, 'net profit month': 0, 'net profit per day month': 0, 'cost month': 0, 'rounds month': 0, 'in season': False}, 'Green Pepper': {'gross profit': 0, 'net profit': 0, 'net profit per day': 0, 'cost': 0, 'rounds': 0, 'gross profit month': 0, 'net profit month': 0, 'net profit per day month': 0, 'cost month': 0, 'rounds month': 0, 'in season': False}, 'Pineapple': {'gross profit': 0, 'net profit': 0, 'net profit per day': 0, 'cost': 0, 'rounds': 0, 'gross profit month': 0, 'net profit month': 0, 'net profit per day month': 0, 'cost month': 0, 'rounds month': 0, 'in season': False}, 'Melon': {'gross profit': 0, 'net profit': 0, 'net profit per day': 0, 'cost': 0, 'rounds': 0, 'gross profit month': 0, 'net profit month': 0, 'net profit per day month': 0, 'cost month': 0, 'rounds month': 0, 'in season': False}, 'Spinach': {'gross profit': 0, 'net profit': 0, 'net profit per day': 0, 'cost': 0, 'rounds': 0, 'gross profit month': 0, 'net profit month': 0, 'net profit per day month': 0, 'cost month': 0, 'rounds month': 0, 'in season': False}, 'Carrot': {'gross profit': 0, 'net profit': 0, 'net profit per day': 0, 'cost': 0, 'rounds': 0, 'gross profit month': 0, 'net profit month': 0, 'net profit per day month': 0, 'cost month': 0, 'rounds month': 0, 'in season': False}, 'Sweet Potato': {'gross profit': 0, 'net profit': 0, 'net profit per day': 0, 'cost': 0, 'rounds': 0, 'gross profit month': 0, 'net profit month': 0, 'net profit per day month': 0, 'cost month': 0, 'rounds month': 0, 'in season': False}, 'Chili Pepper': {'gross profit': 0, 'net profit': 0, 'net profit per day': 0, 'cost': 0, 'rounds': 0, 'gross profit month': 0, 'net profit month': 0, 'net profit per day month': 0, 'cost month': 0, 'rounds month': 0, 'in season': False}, 'Okra': {'gross profit': 0, 'net profit': 0, 'net profit per day': 0, 'cost': 0, 'rounds': 0, 'gross profit month': 0, 'net profit month': 0, 'net profit per day month': 0, 'cost month': 0, 'rounds month': 0, 'in season': False}}\n"
     ]
    }
   ],
   "source": [
    "result_dict = {}\n",
    "for i, row in plant_df.iterrows():\n",
    "    cost_dict = calculate_profit(plant_df,i,\"Spring\",18)\n",
    "    result_dict[i]=cost_dict\n",
    "# print(result_dict)"
   ]
  },
  {
   "cell_type": "code",
   "execution_count": 74,
   "id": "moving-worship",
   "metadata": {},
   "outputs": [],
   "source": [
    "\n",
    "def plot_data(data, y_axis='net profit month'):\n",
    "    seasonal_df = data.loc[data[\"in season\"]]\n",
    "    fig, ax1 = plt.subplots(figsize=(10, 10))\n",
    "    for item in ax1.get_xticklabels():\n",
    "        item.set_rotation(45)\n",
    "    seaborn.barplot(x='index', y=y_axis, data=seasonal_df, ax=ax1)\n",
    "    seaborn.despine(fig)\n",
    "\n",
    "def plot_data_widget(p):\n",
    "    clear_output()\n",
    "    display(dropdown)\n",
    "    global final_data\n",
    "    plot_data(final_data, p[\"new\"])\n",
    "\n"
   ]
  },
  {
   "cell_type": "code",
   "execution_count": 77,
   "id": "furnished-philosophy",
   "metadata": {},
   "outputs": [
    {
     "data": {
      "application/vnd.jupyter.widget-view+json": {
       "model_id": "03957829b7a4453081bdfb3dadfb2a17",
       "version_major": 2,
       "version_minor": 0
      },
      "text/plain": [
       "Dropdown(description='Y-Axis:', index=3, options=('gross profit', 'net profit', 'net profit per day', 'cost', …"
      ]
     },
     "metadata": {},
     "output_type": "display_data"
    },
    {
     "data": {
      "image/png": "[encoded data removed]",
      "text/plain": [
       "<Figure size 720x720 with 1 Axes>"
      ]
     },
     "metadata": {
      "needs_background": "light"
     },
     "output_type": "display_data"
    }
   ],
   "source": [
    "from IPython.display import display\n",
    "import ipywidgets as widgets\n",
    "from IPython.display import display, clear_output\n",
    "dropdown = widgets.Dropdown(\n",
    "    options=final_data.columns.drop([\"index\",\"rounds\", \"in season\", \"rounds month\"]),\n",
    "    description='Y-Axis:',\n",
    "    disabled=False,\n",
    ")\n",
    "display(dropdown)\n",
    "dropdown.observe(plot_data_widget, \"value\")"
   ]
  },
  {
   "cell_type": "code",
   "execution_count": null,
   "id": "labeled-closing",
   "metadata": {},
   "outputs": [],
   "source": []
  }
 ],
 "metadata": {
  "kernelspec": {
   "display_name": "Python 3",
   "language": "python",
   "name": "python3"
  },
  "language_info": {
   "codemirror_mode": {
    "name": "ipython",
    "version": 3
   },
   "file_extension": ".py",
   "mimetype": "text/x-python",
   "name": "python",
   "nbconvert_exporter": "python",
   "pygments_lexer": "ipython3",
   "version": "3.7.10"
  }
 },
 "nbformat": 4,
 "nbformat_minor": 5
}
