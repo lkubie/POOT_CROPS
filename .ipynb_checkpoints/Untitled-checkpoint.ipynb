{
 "cells": [
  {
   "cell_type": "code",
   "execution_count": 1,
   "id": "basic-james",
   "metadata": {},
   "outputs": [],
   "source": [
    "import pandas as pd\n",
    "import os\n",
    "import math\n",
    "import seaborn\n",
    "import matplotlib.pyplot as plt"
   ]
  },
  {
   "cell_type": "code",
   "execution_count": 2,
   "id": "inappropriate-actress",
   "metadata": {},
   "outputs": [],
   "source": [
    "raw_file_path = os.path.join(\"raw_data\", \"plants.csv\")\n",
    "plant_df = pd.read_csv(raw_file_path, index_col=0)\n",
    "plant_df.dropna(thresh=2, inplace=True)\n",
    "seasons = [\"Spring\", \"Summer\", \"Autumn\", \"Winter\"]"
   ]
  },
  {
   "cell_type": "code",
   "execution_count": 3,
   "id": "amazing-dealer",
   "metadata": {},
   "outputs": [],
   "source": [
    "#Given Season and Current Day (and # of crops), calculate the # made\n",
    "def get_plant_season_indicies(seasons_string):\n",
    "    global seasons\n",
    "    \n",
    "    seasons_string = str(seasons_string.replace(\" \",\"\"))\n",
    "    seasons_list = seasons_string.split(\",\")\n",
    "    season_indicies = []\n",
    "    for s in seasons_list:\n",
    "        season_indicies.append(seasons.index(s))\n",
    "    return season_indicies\n",
    "\n",
    "def get_plants_theoretical_max_grow_days(row):\n",
    "    grow_time = row[\"grow_time\"]\n",
    "    max_regrows = row[\"yields_per_season\"]\n",
    "    regrow_time = row[\"regrow_time\"]\n",
    "    if str(regrow_time) == \"nan\":\n",
    "        regrow_time = 0\n",
    "    total_time = grow_time + (max_regrows-1)*regrow_time\n",
    "    return total_time\n",
    "\n",
    "\n",
    "def get_plants_profit(row, days_of_growing):\n",
    "    n_crops = row[\"crops_per_seed\"]\n",
    "    unit_price = row[\"sell_price\"]\n",
    "    seed_price = row[\"seed_price\"]\n",
    "    grow_time = row[\"grow_time\"]\n",
    "    regrow_time = row[\"regrow_time\"]\n",
    "    lenth_round = get_plants_theoretical_max_grow_days(row)\n",
    "    full_rounds = math.floor(days_of_growing/lenth_round)\n",
    "    gross_profit = get_plants_theoretical_max_gross_profit(row) * full_rounds\n",
    "    amount_spent = full_rounds * seed_price\n",
    "    \n",
    "#     print(\"first growth is {} net\".format(str(gross_profit-amount_spent)))\n",
    "    # Now, calculate the partial growths, for crops where we may get some of the potential out\n",
    "    days_remaining = days_of_growing - (full_rounds*lenth_round)\n",
    "    if days_remaining > grow_time:\n",
    "        gross_profit += n_crops * unit_price - seed_price\n",
    "        amount_spent += seed_price\n",
    "        days_remaining -= grow_time\n",
    "#         print(\"second growth is {} net\".format(str(gross_profit-amount_spent)))\n",
    "    while days_remaining >= regrow_time:\n",
    "        days_remaining -= regrow_time\n",
    "        gross_profit += n_crops * unit_price\n",
    "#         print(\"regrowth growth is {} net\".format(str(gross_profit-amount_spent)))\n",
    "        \n",
    "    net_profit = gross_profit - amount_spent\n",
    "#     print(net_profit)\n",
    "    return (net_profit, gross_profit, amount_spent)\n",
    "\n",
    "def get_plants_theoretical_max_gross_profit(row):\n",
    "    n_crops = row[\"crops_per_seed\"]\n",
    "    unit_price = row[\"sell_price\"]\n",
    "    seed_price = row[\"seed_price\"]\n",
    "    grow_time = row[\"grow_time\"]\n",
    "    regrow_time = row[\"regrow_time\"]\n",
    "    regrows = row[\"yields_per_season\"]\n",
    "    return (regrows * unit_price * n_crops)\n",
    "\n",
    "def get_possible_rounds_of_planting(row, total_days_of_growth_remaining):\n",
    "    days_to_use_up_seed = get_plants_theoretical_max_grow_days(row)\n",
    "    total_rounds = total_days_of_growth_remaining/days_to_use_up_seed if total_days_of_growth_remaining >= row[\"grow_time\"] else 0\n",
    "    return round(total_rounds,2)\n",
    "\n",
    "def calculate_profit(plant_df, crop_name, season, day,n_plots):\n",
    "    day = day-1\n",
    "    global seasons\n",
    "    \n",
    "    this_season_index = seasons.index(season)\n",
    "    this_row = plant_df.loc[crop_name]\n",
    "    plant_season_indicies = get_plant_season_indicies(this_row[\"seasons\"])\n",
    "    \n",
    "    if this_season_index not in plant_season_indicies:\n",
    "        this_crop_dict = {\n",
    "            \"gross profit possible\":0,\n",
    "            \"net profit possible\":0,\n",
    "            \"average net profit per day\":0,\n",
    "            \"total cost possible\":0,\n",
    "            \"rounds possible\":0,\n",
    "            \"gross profit possible until end of month\":0,\n",
    "            \"net profit possible until end of month\":0,\n",
    "            \"average net profit per day possible until end of month\":0,\n",
    "            \"total cost this month\":0,\n",
    "            \"total rounds month\":0,\n",
    "            \"in season\":False\n",
    "        }\n",
    "        return this_crop_dict\n",
    "    consecutive_in_seasons = 0\n",
    "    next_season_index = (this_season_index + 1) % 4\n",
    "    while next_season_index in plant_season_indicies:\n",
    "        consecutive_in_seasons +=1\n",
    "        next_season_index = (next_season_index + 1) % 4\n",
    "    \n",
    "    total_days_of_growth_remaing = (28*consecutive_in_seasons)+ (28-day)\n",
    "    rounds_total = get_possible_rounds_of_planting(this_row, total_days_of_growth_remaing)\n",
    "    (net_profit_total, gross_profit_total, amount_spent) = get_plants_profit(this_row, total_days_of_growth_remaing)\n",
    "    net_profit_per_day = round(net_profit_total/total_days_of_growth_remaing,2)\n",
    "    rounds_this_month = get_possible_rounds_of_planting(this_row, 28-day)\n",
    "    (net_profit_this_month, gross_profit_month, amount_spent_month) = get_plants_profit(this_row, 28-day)\n",
    "    net_profit_per_day_this_month = round(net_profit_this_month/(28-day),2)\n",
    "    this_crop_dict = {\n",
    "        \"gross profit possible\":gross_profit_total*n_plots,\n",
    "        \"net profit possible\":net_profit_total*n_plots,\n",
    "        \"average net profit per day\":net_profit_per_day*n_plots,\n",
    "        \"total cost possible\":amount_spent*n_plots,\n",
    "        \"rounds possible\":rounds_total,\n",
    "        \"gross profit possible until end of month\":gross_profit_month*n_plots,\n",
    "        \"net profit possible until end of month\":net_profit_this_month*n_plots,\n",
    "        \"average net profit per day possible until end of month\":net_profit_per_day_this_month*n_plots,\n",
    "        \"total cost this month\":amount_spent_month*n_plots,\n",
    "        \"total rounds month\":rounds_this_month,\n",
    "        \"in season\":True\n",
    "    }\n",
    "    return this_crop_dict\n",
    "\n",
    "def calculate_all(plant_df, season, day,n_plots):\n",
    "    result_dict = {}\n",
    "    for i, row in plant_df.iterrows():\n",
    "        cost_dict = calculate_profit(plant_df,i,season,day,n_plots)\n",
    "        result_dict[i]=cost_dict\n",
    "    resp_df = pd.DataFrame(result_dict).transpose().reset_index().rename(columns={\"index\":\"plant\"})\n",
    "    return resp_df\n"
   ]
  },
  {
   "cell_type": "code",
   "execution_count": 5,
   "id": "starting-trinity",
   "metadata": {},
   "outputs": [],
   "source": [
    "date_data = calculate_all(plant_df,\"Spring\",1,1)"
   ]
  },
  {
   "cell_type": "code",
   "execution_count": 6,
   "id": "gorgeous-organ",
   "metadata": {},
   "outputs": [],
   "source": [
    "\n",
    "def plot_data(data, y_axis='net profit month'):\n",
    "    seasonal_df = data.loc[data[\"in season\"]]\n",
    "    seasonal_df.head(3)\n",
    "    fig, ax1 = plt.subplots(figsize=(10, 10))\n",
    "    for item in ax1.get_xticklabels():\n",
    "        item.set_rotation(45)\n",
    "    seaborn.barplot(x='plant', y=y_axis, data=seasonal_df, ax=ax1)\n",
    "    seaborn.despine(fig)\n",
    "\n",
    "def plot_data_widget(p):\n",
    "    clear_output()\n",
    "    display(dropdown_yaxis,dropdown_season,slider_day)\n",
    "    global date_data\n",
    "    plot_data(date_data, p[\"new\"])\n",
    "\n"
   ]
  },
  {
   "cell_type": "code",
   "execution_count": 22,
   "id": "blind-victim",
   "metadata": {},
   "outputs": [],
   "source": [
    "def refresh_data(a):\n",
    "    global dropdown_yaxis,dropdown_season,dropdown_day,date_data,plant_df,plot_count\n",
    "    date_data = calculate_all(plant_df,dropdown_season.value,dropdown_day.value,plot_count.value)\n",
    "    \n",
    "    plot_data(date_data, dropdown_yaxis.value)\n",
    "    clear_output()\n",
    "    display(plot_count,dropdown_yaxis,dropdown_season,dropdown_day)\n",
    "#     left_box = VBox([dropdown_yaxis])\n",
    "#     right_box = VBox([dropdown_season, dropdown_day])\n",
    "#     HBox([left_box, right_box])"
   ]
  },
  {
   "cell_type": "code",
   "execution_count": 42,
   "id": "continental-sample",
   "metadata": {},
   "outputs": [
    {
     "data": {
      "application/vnd.jupyter.widget-view+json": {
       "model_id": "33f72ac5d0d2459cba384bdc2650a81b",
       "version_major": 2,
       "version_minor": 0
      },
      "text/plain": [
       "BoundedIntText(value=1, description='Number of Plots:', max=2000000, min=1)"
      ]
     },
     "metadata": {},
     "output_type": "display_data"
    },
    {
     "data": {
      "application/vnd.jupyter.widget-view+json": {
       "model_id": "6527271f6e93436b8db429a8ae7700f0",
       "version_major": 2,
       "version_minor": 0
      },
      "text/plain": [
       "Dropdown(description='Y-Axis:', index=6, options=('gross profit possible', 'net profit possible', 'average net…"
      ]
     },
     "metadata": {},
     "output_type": "display_data"
    },
    {
     "data": {
      "application/vnd.jupyter.widget-view+json": {
       "model_id": "36a6764eed044aabac3030e43037de21",
       "version_major": 2,
       "version_minor": 0
      },
      "text/plain": [
       "Dropdown(description='Season:', options=('Spring', 'Summer', 'Autumn', 'Winter'), value='Spring')"
      ]
     },
     "metadata": {},
     "output_type": "display_data"
    },
    {
     "data": {
      "application/vnd.jupyter.widget-view+json": {
       "model_id": "993e214519c64f1bb95c80091dada0d4",
       "version_major": 2,
       "version_minor": 0
      },
      "text/plain": [
       "Dropdown(description='Day:', options=(1, 2, 3, 4, 5, 6, 7, 8, 9, 10, 11, 12, 13, 14, 15, 16, 17, 18, 19, 20, 2…"
      ]
     },
     "metadata": {},
     "output_type": "display_data"
    },
    {
     "data": {
      "image/png": "[encoded data removed]",
      "text/plain": [
       "<Figure size 720x720 with 1 Axes>"
      ]
     },
     "metadata": {
      "needs_background": "light"
     },
     "output_type": "display_data"
    }
   ],
   "source": [
    "from IPython.display import display\n",
    "import ipywidgets as widgets\n",
    "from IPython.display import display, clear_output\n",
    "from ipywidgets import HBox, VBox\n",
    "from IPython.display import HTML, display\n",
    "\n",
    "display(HTML('''<style>\n",
    "    .widget-label { width: None !important; }\n",
    "</style>'''))\n",
    "\n",
    "# layout = widgets.Layout(width='initial', height='30px') #set width and height\n",
    "plot_count = widgets.BoundedIntText(\n",
    "    value=1,\n",
    "    description='Number of Plots:',\n",
    "    disabled=False,\n",
    "    continuous_update =False,\n",
    "    min = 1,\n",
    "    max=2000000\n",
    ")\n",
    "dropdown_yaxis = widgets.Dropdown(\n",
    "    options=date_data.columns.drop([\"plant\", \"in season\"]),\n",
    "    description='Y-Axis:',\n",
    "    value = \"net profit possible until end of month\",\n",
    ")\n",
    "dropdown_season = widgets.Dropdown(\n",
    "    options=[\"Spring\",\"Summer\",\"Autumn\",\"Winter\"],\n",
    "    description='Season:'\n",
    ")\n",
    "dropdown_day = widgets.Dropdown(\n",
    "    options=list(range(1,28)),\n",
    "    description='Day:'\n",
    "\n",
    ")\n",
    "\n",
    "# slider_day = widgets.IntSlider(value=1, min=1, max=28, step=1)\n",
    "\n",
    "display(plot_count,dropdown_yaxis,dropdown_season,dropdown_day)\n",
    "\n",
    "# left_box = VBox([dropdown_yaxis])\n",
    "# right_box = VBox([dropdown_season, dropdown_day,plot_count])\n",
    "# HBox([left_box, right_box])\n",
    "\n",
    "dropdown_yaxis.observe(refresh_data, names=['value'])\n",
    "dropdown_season.observe(refresh_data, names=['value'])\n",
    "dropdown_day.observe(refresh_data, names=['value'])\n",
    "plot_count.observe(refresh_data, names=['value'])\n",
    "# refresh_data()\n",
    "refresh_data(True)"
   ]
  },
  {
   "cell_type": "code",
   "execution_count": null,
   "id": "passing-raising",
   "metadata": {},
   "outputs": [],
   "source": []
  },
  {
   "cell_type": "code",
   "execution_count": null,
   "id": "korean-triangle",
   "metadata": {},
   "outputs": [],
   "source": []
  },
  {
   "cell_type": "code",
   "execution_count": null,
   "id": "caring-spirit",
   "metadata": {},
   "outputs": [],
   "source": []
  }
 ],
 "metadata": {
  "kernelspec": {
   "display_name": "Python 3",
   "language": "python",
   "name": "python3"
  },
  "language_info": {
   "codemirror_mode": {
    "name": "ipython",
    "version": 3
   },
   "file_extension": ".py",
   "mimetype": "text/x-python",
   "name": "python",
   "nbconvert_exporter": "python",
   "pygments_lexer": "ipython3",
   "version": "3.7.10"
  }
 },
 "nbformat": 4,
 "nbformat_minor": 5
}
